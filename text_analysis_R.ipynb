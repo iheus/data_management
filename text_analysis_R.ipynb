{
 "cells": [
  {
   "cell_type": "markdown",
   "metadata": {},
   "source": [
    "## R for text analysis\n",
    "#### Data Management (Spring/Summer 2018) at OSIPP, Osaka U"
   ]
  },
  {
   "cell_type": "markdown",
   "metadata": {},
   "source": [
    "### Preamble"
   ]
  },
  {
   "cell_type": "code",
   "execution_count": null,
   "metadata": {},
   "outputs": [],
   "source": [
    "library(RMeCab) #install.packages(\"RMeCab\", repos = \"http://rmecab.jp/R\")\n",
    "library(data.table)\n",
    "library(stringr)\n",
    "library(ggplot2)\n",
    "#library(MASS)\n",
    "library(FactoMineR) #install.packages(\"FactoMineR\",repos='http://cran.us.r-project.org')\n",
    "library(factoextra) #install.packages(\"factoextra\",repos='http://cran.us.r-project.org')"
   ]
  },
  {
   "cell_type": "code",
   "execution_count": 2,
   "metadata": {},
   "outputs": [],
   "source": [
    "rm(list = ls())"
   ]
  },
  {
   "cell_type": "code",
   "execution_count": 19,
   "metadata": {},
   "outputs": [],
   "source": [
    "#setwd(\"\") # set the path to your local directory."
   ]
  },
  {
   "cell_type": "code",
   "execution_count": 20,
   "metadata": {},
   "outputs": [],
   "source": [
    "options(repr.plot.width=7,repr.plot.height=7) # set figure size"
   ]
  },
  {
   "cell_type": "markdown",
   "metadata": {},
   "source": [
    "### Import data"
   ]
  },
  {
   "cell_type": "code",
   "execution_count": null,
   "metadata": {},
   "outputs": [],
   "source": [
    "orig_data <- fread(\"syuuin_speech_tpp2017.csv\",sep=',',encoding='UTF-8',data.table=FALSE,stringsAsFactors=FALSE) # need to encode\n",
    "print(head(orig_data))"
   ]
  },
  {
   "cell_type": "markdown",
   "metadata": {},
   "source": [
    "### Split into speaker names and speeches\n",
    "- There are max 20 speeches in a meeting and 20 meetings are included in the data."
   ]
  },
  {
   "cell_type": "code",
   "execution_count": null,
   "metadata": {
    "scrolled": false
   },
   "outputs": [],
   "source": [
    "text <- t(sapply(1:20, function(y) str_split_fixed(orig_data[y,1:26],\"　\", 2))) # split into speaker names and speeches\n",
    "# convert from utf-8 to shift_jis\n",
    "name <- data.frame(t(sapply(1:20, function(y) iconv(text[y,7:26],from=\"UTF-8\",to=\"Shift_JIS\"))))\n",
    "speech <- data.frame(t(sapply(1:20, function(y) iconv(text[y,33:52],from=\"UTF-8\",to=\"Shift_JIS\"))))\n",
    "#validEnc(as.character(speech[1,1]))\n",
    "print(dim(name)) # row = meetings, col = speekers\n",
    "print(dim(speech))\n",
    "print(name[20,2])  # 20th meeting, 2nd speaker\n",
    "print(speech[20,2]) # 20th meeting, 2nd speaker"
   ]
  },
  {
   "cell_type": "markdown",
   "metadata": {},
   "source": [
    "### Split speeches into words"
   ]
  },
  {
   "cell_type": "code",
   "execution_count": null,
   "metadata": {},
   "outputs": [],
   "source": [
    "data <- sapply(1:20, function(y) RMeCabDF(speech,y,0)) # 0 returns texts as they are spoken, 1 returns basic forms\n",
    "print(class(data[1,]))\n",
    "print(dim(data))\n",
    "print(length(unlist(data))) # words\n",
    "print(length(unique(unlist(data)))) # unique words\n",
    "print(data[20,2])  # 20th meeting, 2nd speaker"
   ]
  },
  {
   "cell_type": "markdown",
   "metadata": {},
   "source": [
    "### Count words"
   ]
  },
  {
   "cell_type": "code",
   "execution_count": null,
   "metadata": {},
   "outputs": [],
   "source": [
    "text_counts <- NULL\n",
    "for (i in 1:length(data)) { # length data = 20 meetings * 20 speekers (including NA)\n",
    "    if(any(is.na(data[[i]]))) {\n",
    "        text_counts[i] <- NA\n",
    "    }else{\n",
    "        text_counts[i] <- length(data[[i]])\n",
    "    }\n",
    "}\n",
    "#print(text_counts)\n",
    "print(summary(text_counts))"
   ]
  },
  {
   "cell_type": "markdown",
   "metadata": {},
   "source": [
    "### Plot histogram"
   ]
  },
  {
   "cell_type": "code",
   "execution_count": null,
   "metadata": {},
   "outputs": [],
   "source": [
    "df_text_counts <- data.frame(text_counts)\n",
    "\n",
    "ggplot(data=df_text_counts,aes(x=df_text_counts)) + \n",
    "    geom_histogram(binwidth=100,alpha=0.3,fill=\"black\") +\n",
    "    scale_y_continuous(breaks=seq(0,1250,by=200)) +\n",
    "    labs(title=\"Title\",x=\"\",y=\"\") +\n",
    "    theme(\n",
    "        panel.background = element_rect(fill = NA),\n",
    "        panel.border = element_rect(fill = NA, color = \"grey75\"),\n",
    "        axis.ticks = element_line(color = \"grey85\"),\n",
    "        #panel.grid.major = element_line(color = \"grey95\", size = 0.2),\n",
    "        #panel.grid.minor = element_line(color = \"grey95\", size = 0.2),\n",
    "        legend.position = \"none\",\n",
    "        plot.title = element_text(hjust = 0.5, size=9),\n",
    "        axis.title = element_text(size=9),\n",
    "        axis.text = element_text(size=9))"
   ]
  },
  {
   "cell_type": "markdown",
   "metadata": {},
   "source": [
    "### Frequency table of PoS"
   ]
  },
  {
   "cell_type": "code",
   "execution_count": null,
   "metadata": {},
   "outputs": [],
   "source": [
    "table(names(unlist(data)))"
   ]
  },
  {
   "cell_type": "markdown",
   "metadata": {},
   "source": [
    "### Separate by PoS"
   ]
  },
  {
   "cell_type": "code",
   "execution_count": 13,
   "metadata": {},
   "outputs": [],
   "source": [
    "pos <- rep( list(list()), 13 ) \n",
    "\n",
    "for (i in 1:length(data)) {\n",
    "    pos[[1]][[i]] <- data[[i]][names(data[[i]])==\"名詞\"]\n",
    "    pos[[2]][[i]] <- data[[i]][names(data[[i]])==\"動詞\"]\n",
    "    pos[[3]][[i]] <- data[[i]][names(data[[i]])==\"形容詞\"]\n",
    "    pos[[4]][[i]] <- data[[i]][names(data[[i]])==\"感動詞\"]\n",
    "    pos[[5]][[i]] <- data[[i]][names(data[[i]])==\"副詞\"]\n",
    "    pos[[6]][[i]] <- data[[i]][names(data[[i]])==\"助動詞\"]\n",
    "    pos[[7]][[i]] <- data[[i]][names(data[[i]])==\"助詞\"]\n",
    "    pos[[8]][[i]] <- data[[i]][names(data[[i]])==\"接続詞\"]\n",
    "    pos[[9]][[i]] <- data[[i]][names(data[[i]])==\"接頭詞\"]\n",
    "    pos[[10]][[i]] <- data[[i]][names(data[[i]])==\"連体詞\"]\n",
    "    pos[[11]][[i]] <- data[[i]][names(data[[i]])==\"その他\"]\n",
    "    pos[[12]][[i]] <- data[[i]][names(data[[i]])==\"フィラー\"]\n",
    "    pos[[13]][[i]] <- data[[i]][names(data[[i]])==\"記号\"]\n",
    "}"
   ]
  },
  {
   "cell_type": "code",
   "execution_count": null,
   "metadata": {},
   "outputs": [],
   "source": [
    "print(length(unlist(pos[[1]]))) # count nouns\n",
    "print(length(unique(unlist(pos[[1]])))) # count unique nouns\n",
    "# print(pos[[1]])"
   ]
  },
  {
   "cell_type": "markdown",
   "metadata": {},
   "source": [
    "### Words used by a specific politician"
   ]
  },
  {
   "cell_type": "code",
   "execution_count": null,
   "metadata": {},
   "outputs": [],
   "source": [
    "print(data[which(name == \"河野国務大臣\")])"
   ]
  },
  {
   "cell_type": "markdown",
   "metadata": {},
   "source": [
    "#### - Most frequent words"
   ]
  },
  {
   "cell_type": "code",
   "execution_count": null,
   "metadata": {},
   "outputs": [],
   "source": [
    "data_unlist <- table(unlist(data[which(name == \"河野国務大臣\")]))\n",
    "print(data_unlist[order(data_unlist,decreasing=TRUE)][1:50]) "
   ]
  },
  {
   "cell_type": "markdown",
   "metadata": {},
   "source": [
    "#### - Most frequent nouns"
   ]
  },
  {
   "cell_type": "code",
   "execution_count": null,
   "metadata": {},
   "outputs": [],
   "source": [
    "pol_word <- table(unlist(pos[[1]][which(name == \"河野国務大臣\")]))\n",
    "print(pol_word[order(pol_word, decreasing=TRUE)][1:50]) # most frequent nouns"
   ]
  },
  {
   "cell_type": "markdown",
   "metadata": {},
   "source": [
    "#### - Remove some words from the list of nouns"
   ]
  },
  {
   "cell_type": "code",
   "execution_count": null,
   "metadata": {},
   "outputs": [],
   "source": [
    "remove_words <- c(\"こと\", \"の\", \"化\", \"それ\")\n",
    "pol_word2 <- pol_word[!names(pol_word) %in% remove_words]\n",
    "print(pol_word2[order(pol_word2,decreasing=TRUE)][1:50])"
   ]
  },
  {
   "cell_type": "markdown",
   "metadata": {},
   "source": [
    "### Correspondence Analysis"
   ]
  },
  {
   "cell_type": "markdown",
   "metadata": {},
   "source": [
    "#### - Select all Daijin"
   ]
  },
  {
   "cell_type": "code",
   "execution_count": null,
   "metadata": {},
   "outputs": [],
   "source": [
    "print(length(unique(unlist(name))))\n",
    "speakers <- unique(unlist(name))\n",
    "print(speakers)\n",
    "daijin <- speakers[grepl(\"大臣\",speakers)]\n",
    "print(daijin)"
   ]
  },
  {
   "cell_type": "markdown",
   "metadata": {},
   "source": [
    "#### - Select nouns for each daijin"
   ]
  },
  {
   "cell_type": "code",
   "execution_count": null,
   "metadata": {},
   "outputs": [],
   "source": [
    "# select nouns\n",
    "daijin_table <- sapply(1:8, function(y) table(unlist(pos[[1]][which(name == as.character(daijin[y]))])))\n",
    "# select top 100 nouns\n",
    "daijin_table_top <- lapply(1:8, function(y) daijin_table[[y]][order(daijin_table[[y]],decreasing=TRUE)][1:100])\n",
    "print(daijin_table_top[[2]]) "
   ]
  },
  {
   "cell_type": "markdown",
   "metadata": {},
   "source": [
    "#### - Bind data"
   ]
  },
  {
   "cell_type": "code",
   "execution_count": null,
   "metadata": {},
   "outputs": [],
   "source": [
    "daijin_speech_data <- rbind(\n",
    "    data.frame(word = names(daijin_table_top[[1]]),id = rep(\"斉藤\", length(daijin_table_top[[1]])), freq = as.data.frame(daijin_table_top[[1]])$Freq),\n",
    "    data.frame(word = names(daijin_table_top[[2]]),id = rep(\"菅\", length(daijin_table_top[[2]])), freq = as.data.frame(daijin_table_top[[2]])$Freq),\n",
    "    data.frame(word = names(daijin_table_top[[3]]),id = rep(\"茂木\", length(daijin_table_top[[3]])), freq = as.data.frame(daijin_table_top[[3]])$Freq),\n",
    "    data.frame(word = names(daijin_table_top[[4]]),id = rep(\"松山\", length(daijin_table_top[[4]])), freq = as.data.frame(daijin_table_top[[4]])$Freq),\n",
    "    data.frame(word = names(daijin_table_top[[5]]),id = rep(\"世耕\", length(daijin_table_top[[5]])), freq = as.data.frame(daijin_table_top[[5]])$Freq),\n",
    "    data.frame(word = names(daijin_table_top[[6]]),id = rep(\"梶山\", length(daijin_table_top[[6]])), freq = as.data.frame(daijin_table_top[[6]])$Freq),\n",
    "    data.frame(word = names(daijin_table_top[[7]]),id = rep(\"河野\", length(daijin_table_top[[7]])), freq = as.data.frame(daijin_table_top[[7]])$Freq),\n",
    "    data.frame(word = names(daijin_table_top[[8]]),id = rep(\"石井\", length(daijin_table_top[[8]])), freq = as.data.frame(daijin_table_top[[8]])$Freq)\n",
    ")\n",
    "\n",
    "daijin_speech <- xtabs(freq ~ word + id, data=daijin_speech_data)  # cross-tabulation\n",
    "print(daijin_speech)\n",
    "print(rownames(daijin_speech))"
   ]
  },
  {
   "cell_type": "markdown",
   "metadata": {},
   "source": [
    "#### - Plot"
   ]
  },
  {
   "cell_type": "code",
   "execution_count": null,
   "metadata": {},
   "outputs": [],
   "source": [
    "daijin_ca <- CA(daijin_speech,graph=FALSE)    # Correspondence Analysis in FactoMineR package\n",
    "\n",
    "fviz_ca(daijin_ca,                          　 # fviz_ca in factoextra package\n",
    "        col.row=\"steelblue\", col.col=\"red\", \n",
    "        alpha.row=0.5, \n",
    "        labelsize=4,\n",
    "        select.row=list(contrib=100)) +\n",
    "        theme(\n",
    "            panel.background = element_rect(fill=NA),\n",
    "            panel.border = element_rect(fill=NA,color=\"grey75\"),\n",
    "            axis.ticks = element_line(color=\"grey85\"),\n",
    "            panel.grid.major = element_blank(), \n",
    "            panel.grid.minor = element_blank(), \n",
    "            legend.position = \"none\",\n",
    "            plot.title = element_text(hjust = 0.5,size=9),\n",
    "            axis.title = element_text(size=9),\n",
    "            axis.text = element_text(size=9))"
   ]
  },
  {
   "cell_type": "markdown",
   "metadata": {},
   "source": [
    "#### Check Kono Daijin's top nouns"
   ]
  },
  {
   "cell_type": "code",
   "execution_count": null,
   "metadata": {},
   "outputs": [],
   "source": [
    "print(daijin_table_top[[7]])"
   ]
  },
  {
   "cell_type": "code",
   "execution_count": null,
   "metadata": {},
   "outputs": [],
   "source": [
    "print(unlist(speech)[which(name == \"河野国務大臣\")])"
   ]
  },
  {
   "cell_type": "code",
   "execution_count": 51,
   "metadata": {},
   "outputs": [],
   "source": [
    "#windowsFonts()\n",
    "#windowsFonts(gothic=windowsFont(\"MS Gothic\")) "
   ]
  }
 ],
 "metadata": {
  "kernelspec": {
   "display_name": "R",
   "language": "R",
   "name": "ir"
  },
  "language_info": {
   "codemirror_mode": "r",
   "file_extension": ".r",
   "mimetype": "text/x-r-source",
   "name": "R",
   "pygments_lexer": "r",
   "version": "3.4.4"
  }
 },
 "nbformat": 4,
 "nbformat_minor": 2
}
